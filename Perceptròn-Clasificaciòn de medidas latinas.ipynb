{
 "cells": [
  {
   "cell_type": "code",
   "execution_count": null,
   "id": "d086a626",
   "metadata": {},
   "outputs": [],
   "source": [
    "import random\n",
    "import matplotlib.pyploty as plt\n",
    "import pandas as pd\n",
    "import imp"
   ]
  },
  {
   "cell_type": "code",
   "execution_count": 13,
   "id": "1bd08aa6",
   "metadata": {},
   "outputs": [
    {
     "ename": "IndentationError",
     "evalue": "expected an indented block (3582791336.py, line 9)",
     "output_type": "error",
     "traceback": [
      "\u001b[1;36m  File \u001b[1;32m\"C:\\Users\\usuario\\AppData\\Local\\Temp\\ipykernel_14036\\3582791336.py\"\u001b[1;36m, line \u001b[1;32m9\u001b[0m\n\u001b[1;33m    def train(self, inputs, ex_output):\u001b[0m\n\u001b[1;37m    ^\u001b[0m\n\u001b[1;31mIndentationError\u001b[0m\u001b[1;31m:\u001b[0m expected an indented block\n"
     ]
    }
   ],
   "source": [
    "class Perceptron:\n",
    "    def __init__(self, input_number, step_size=0.1):\n",
    "        self._ins = input_number\n",
    "        self._w =[random.random() for _ in range(input_number)]\n",
    "        self._eta = step_size\n",
    "    \n",
    "    def predict(self, inputs):\n",
    "        \n",
    "    def train(self, inputs, ex_output):\n",
    "        output = self.predict(inputs)\n",
    "        error = ex_output - output\n",
    "        if error != 0:\n",
    "            self._w = [w + self._eta = error*x for w, x in zip(self._w, inputs)]\n",
    "        return error"
   ]
  },
  {
   "cell_type": "code",
   "execution_count": 14,
   "id": "1b4510dc",
   "metadata": {},
   "outputs": [],
   "source": [
    "#Conjunto de entradas\n",
    "#data = [[170, 56, 1],#Mujeres de 1.7 m y 56 kg\n",
    " #       [172, 63, 0],#Hombres de 1.72 m y 63 kg\n",
    " #       [160, 50, 1],\n",
    " #       [170, 63, 0],\n",
    " #     [174, 66, 0],\n",
    " #   [158, 55, 1],\n",
    "     #  [183, 80, 0],\n",
    "       # [182, 70, 0],\n",
    "        #[165, 54, 1]]\n",
    "        data.pd.read_csv('antropo_latino.csv')\n",
    "                         \n",
    "                         #pwd')"
   ]
  },
  {
   "cell_type": "code",
   "execution_count": null,
   "id": "e2679932",
   "metadata": {},
   "outputs": [],
   "source": [
    "data.head()"
   ]
  },
  {
   "cell_type": "code",
   "execution_count": 15,
   "id": "ef37f7db",
   "metadata": {},
   "outputs": [
    {
     "ename": "NameError",
     "evalue": "name 'Perceptron' is not defined",
     "output_type": "error",
     "traceback": [
      "\u001b[1;31m---------------------------------------------------------------------------\u001b[0m",
      "\u001b[1;31mNameError\u001b[0m                                 Traceback (most recent call last)",
      "\u001b[1;32m~\\AppData\\Local\\Temp\\ipykernel_14036\\1511386268.py\u001b[0m in \u001b[0;36m<module>\u001b[1;34m\u001b[0m\n\u001b[0;32m      1\u001b[0m \u001b[1;31m#Crear perceptron de 3 entradas, variables estatura, pero y sexo\u001b[0m\u001b[1;33m\u001b[0m\u001b[1;33m\u001b[0m\u001b[0m\n\u001b[1;32m----> 2\u001b[1;33m \u001b[0mpr\u001b[0m \u001b[1;33m=\u001b[0m \u001b[0mPerceptron\u001b[0m\u001b[1;33m(\u001b[0m\u001b[1;36m3\u001b[0m\u001b[1;33m,\u001b[0m \u001b[1;36m0.1\u001b[0m\u001b[1;33m)\u001b[0m\u001b[1;33m\u001b[0m\u001b[1;33m\u001b[0m\u001b[0m\n\u001b[0m\u001b[0;32m      3\u001b[0m \u001b[1;31m#Lista de pesos inicial\u001b[0m\u001b[1;33m\u001b[0m\u001b[1;33m\u001b[0m\u001b[0m\n\u001b[0;32m      4\u001b[0m \u001b[0mweights\u001b[0m \u001b[1;33m=\u001b[0m \u001b[1;33m[\u001b[0m\u001b[1;33m]\u001b[0m\u001b[1;33m\u001b[0m\u001b[1;33m\u001b[0m\u001b[0m\n\u001b[0;32m      5\u001b[0m \u001b[1;31m#Lista de errores inicial\u001b[0m\u001b[1;33m\u001b[0m\u001b[1;33m\u001b[0m\u001b[0m\n",
      "\u001b[1;31mNameError\u001b[0m: name 'Perceptron' is not defined"
     ]
    }
   ],
   "source": [
    "#Crear perceptron de 3 entradas, variables estatura, pero y sexo\n",
    "pr = Perceptron(3, 0.1)\n",
    "#Lista de pesos inicial\n",
    "weights = []\n",
    "#Lista de errores inicial\n",
    "errores = []"
   ]
  },
  {
   "cell_type": "code",
   "execution_count": null,
   "id": "512af562",
   "metadata": {},
   "outputs": [],
   "source": [
    "#Fase de entrenamiento\n",
    "for _ in range(100):\n",
    "    for persona in data:\n",
    "        # La salida es la variable sexo (ultimo dato de la lista)\n",
    "        output = persona[-1]\n",
    "        # bias + x1 + x2 + ...\n",
    "        inp = [1] + persona[0:-1]\n",
    "        weights.append(pr._w)\n",
    "        err = pr.train(inp, output)\n",
    "        errores.append(err)"
   ]
  },
  {
   "cell_type": "code",
   "execution_count": null,
   "id": "cb1cff65",
   "metadata": {},
   "outputs": [],
   "source": [
    "#Valores para evaluar la respuesta del perceptron\n",
    "estatura = 170 \n",
    "peso = 68"
   ]
  },
  {
   "cell_type": "code",
   "execution_count": null,
   "id": "219d522b",
   "metadata": {},
   "outputs": [],
   "source": [
    "if pr.predict([1, estatura, peso]) == 1:\n",
    "    print('Mujer')\n",
    "else:\n",
    "    print('Hombre')"
   ]
  },
  {
   "cell_type": "code",
   "execution_count": null,
   "id": "9b6213a3",
   "metadata": {},
   "outputs": [],
   "source": [
    "puede_graficas = True\n",
    "try:\n",
    "    imp.find_module('matplotlib')\n",
    "except:\n",
    "    puede_graficar = False"
   ]
  },
  {
   "cell_type": "code",
   "execution_count": null,
   "id": "67cde02f",
   "metadata": {},
   "outputs": [],
   "source": [
    "if not puede_graficar:\n",
    "    print('No es posible graficar los resultados porque hace falta el modulo matplotlib')\n",
    "    sys.exit(0)\n",
    "    pass\n",
    "\n",
    "plt.plot(errores)\n",
    "plt.show()"
   ]
  }
 ],
 "metadata": {
  "kernelspec": {
   "display_name": "Python 3 (ipykernel)",
   "language": "python",
   "name": "python3"
  },
  "language_info": {
   "codemirror_mode": {
    "name": "ipython",
    "version": 3
   },
   "file_extension": ".py",
   "mimetype": "text/x-python",
   "name": "python",
   "nbconvert_exporter": "python",
   "pygments_lexer": "ipython3",
   "version": "3.9.13"
  }
 },
 "nbformat": 4,
 "nbformat_minor": 5
}
